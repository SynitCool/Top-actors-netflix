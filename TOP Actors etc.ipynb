{
 "cells": [
  {
   "cell_type": "code",
   "execution_count": 1,
   "id": "8fcfe569",
   "metadata": {},
   "outputs": [],
   "source": [
    "import numpy as np\n",
    "import pandas as pd\n",
    "\n",
    "import matplotlib.pyplot as plt\n",
    "import seaborn as sns"
   ]
  },
  {
   "cell_type": "code",
   "execution_count": 2,
   "id": "b45d7364",
   "metadata": {},
   "outputs": [
    {
     "data": {
      "text/html": [
       "<div>\n",
       "<style scoped>\n",
       "    .dataframe tbody tr th:only-of-type {\n",
       "        vertical-align: middle;\n",
       "    }\n",
       "\n",
       "    .dataframe tbody tr th {\n",
       "        vertical-align: top;\n",
       "    }\n",
       "\n",
       "    .dataframe thead th {\n",
       "        text-align: right;\n",
       "    }\n",
       "</style>\n",
       "<table border=\"1\" class=\"dataframe\">\n",
       "  <thead>\n",
       "    <tr style=\"text-align: right;\">\n",
       "      <th></th>\n",
       "      <th>show_id</th>\n",
       "      <th>type</th>\n",
       "      <th>title</th>\n",
       "      <th>director</th>\n",
       "      <th>cast</th>\n",
       "      <th>country</th>\n",
       "      <th>date_added</th>\n",
       "      <th>release_year</th>\n",
       "      <th>rating</th>\n",
       "      <th>duration</th>\n",
       "      <th>...</th>\n",
       "      <th>description</th>\n",
       "      <th>month_added</th>\n",
       "      <th>year_added</th>\n",
       "      <th>seasonly</th>\n",
       "      <th>duration_season</th>\n",
       "      <th>minutely</th>\n",
       "      <th>duration_minute</th>\n",
       "      <th>family</th>\n",
       "      <th>life</th>\n",
       "      <th>friend</th>\n",
       "    </tr>\n",
       "  </thead>\n",
       "  <tbody>\n",
       "    <tr>\n",
       "      <th>0</th>\n",
       "      <td>s1</td>\n",
       "      <td>TV Show</td>\n",
       "      <td>3%</td>\n",
       "      <td>missing</td>\n",
       "      <td>João Miguel, Bianca Comparato, Michel Gomes, R...</td>\n",
       "      <td>Brazil</td>\n",
       "      <td>2020-08-14</td>\n",
       "      <td>2020</td>\n",
       "      <td>TV-MA</td>\n",
       "      <td>4 Seasons</td>\n",
       "      <td>...</td>\n",
       "      <td>In a future where the elite inhabit an island ...</td>\n",
       "      <td>August</td>\n",
       "      <td>2020</td>\n",
       "      <td>1</td>\n",
       "      <td>4</td>\n",
       "      <td>0</td>\n",
       "      <td>0</td>\n",
       "      <td>0.0</td>\n",
       "      <td>0.0</td>\n",
       "      <td>0.0</td>\n",
       "    </tr>\n",
       "    <tr>\n",
       "      <th>1</th>\n",
       "      <td>s2</td>\n",
       "      <td>Movie</td>\n",
       "      <td>7:19</td>\n",
       "      <td>Jorge Michel Grau</td>\n",
       "      <td>Demián Bichir, Héctor Bonilla, Oscar Serrano, ...</td>\n",
       "      <td>Mexico</td>\n",
       "      <td>2016-12-23</td>\n",
       "      <td>2016</td>\n",
       "      <td>TV-MA</td>\n",
       "      <td>93 min</td>\n",
       "      <td>...</td>\n",
       "      <td>After a devastating earthquake hits Mexico Cit...</td>\n",
       "      <td>December</td>\n",
       "      <td>2016</td>\n",
       "      <td>0</td>\n",
       "      <td>0</td>\n",
       "      <td>1</td>\n",
       "      <td>93</td>\n",
       "      <td>0.0</td>\n",
       "      <td>1.0</td>\n",
       "      <td>0.0</td>\n",
       "    </tr>\n",
       "    <tr>\n",
       "      <th>2</th>\n",
       "      <td>s3</td>\n",
       "      <td>Movie</td>\n",
       "      <td>23:59</td>\n",
       "      <td>Gilbert Chan</td>\n",
       "      <td>Tedd Chan, Stella Chung, Henley Hii, Lawrence ...</td>\n",
       "      <td>Singapore</td>\n",
       "      <td>2018-12-20</td>\n",
       "      <td>2011</td>\n",
       "      <td>R</td>\n",
       "      <td>78 min</td>\n",
       "      <td>...</td>\n",
       "      <td>When an army recruit is found dead, his fellow...</td>\n",
       "      <td>December</td>\n",
       "      <td>2018</td>\n",
       "      <td>0</td>\n",
       "      <td>0</td>\n",
       "      <td>1</td>\n",
       "      <td>78</td>\n",
       "      <td>0.0</td>\n",
       "      <td>0.0</td>\n",
       "      <td>0.0</td>\n",
       "    </tr>\n",
       "    <tr>\n",
       "      <th>3</th>\n",
       "      <td>s4</td>\n",
       "      <td>Movie</td>\n",
       "      <td>9</td>\n",
       "      <td>Shane Acker</td>\n",
       "      <td>Elijah Wood, John C. Reilly, Jennifer Connelly...</td>\n",
       "      <td>United States</td>\n",
       "      <td>2017-11-16</td>\n",
       "      <td>2009</td>\n",
       "      <td>PG-13</td>\n",
       "      <td>80 min</td>\n",
       "      <td>...</td>\n",
       "      <td>In a postapocalyptic world, rag-doll robots hi...</td>\n",
       "      <td>November</td>\n",
       "      <td>2017</td>\n",
       "      <td>0</td>\n",
       "      <td>0</td>\n",
       "      <td>1</td>\n",
       "      <td>80</td>\n",
       "      <td>0.0</td>\n",
       "      <td>0.0</td>\n",
       "      <td>0.0</td>\n",
       "    </tr>\n",
       "    <tr>\n",
       "      <th>4</th>\n",
       "      <td>s5</td>\n",
       "      <td>Movie</td>\n",
       "      <td>21</td>\n",
       "      <td>Robert Luketic</td>\n",
       "      <td>Jim Sturgess, Kevin Spacey, Kate Bosworth, Aar...</td>\n",
       "      <td>United States</td>\n",
       "      <td>2020-01-01</td>\n",
       "      <td>2008</td>\n",
       "      <td>PG-13</td>\n",
       "      <td>123 min</td>\n",
       "      <td>...</td>\n",
       "      <td>A brilliant group of students become card-coun...</td>\n",
       "      <td>January</td>\n",
       "      <td>2020</td>\n",
       "      <td>0</td>\n",
       "      <td>0</td>\n",
       "      <td>1</td>\n",
       "      <td>123</td>\n",
       "      <td>0.0</td>\n",
       "      <td>0.0</td>\n",
       "      <td>0.0</td>\n",
       "    </tr>\n",
       "  </tbody>\n",
       "</table>\n",
       "<p>5 rows × 21 columns</p>\n",
       "</div>"
      ],
      "text/plain": [
       "  show_id     type  title           director  \\\n",
       "0      s1  TV Show     3%            missing   \n",
       "1      s2    Movie   7:19  Jorge Michel Grau   \n",
       "2      s3    Movie  23:59       Gilbert Chan   \n",
       "3      s4    Movie      9        Shane Acker   \n",
       "4      s5    Movie     21     Robert Luketic   \n",
       "\n",
       "                                                cast        country  \\\n",
       "0  João Miguel, Bianca Comparato, Michel Gomes, R...         Brazil   \n",
       "1  Demián Bichir, Héctor Bonilla, Oscar Serrano, ...         Mexico   \n",
       "2  Tedd Chan, Stella Chung, Henley Hii, Lawrence ...      Singapore   \n",
       "3  Elijah Wood, John C. Reilly, Jennifer Connelly...  United States   \n",
       "4  Jim Sturgess, Kevin Spacey, Kate Bosworth, Aar...  United States   \n",
       "\n",
       "  date_added  release_year rating   duration  ...  \\\n",
       "0 2020-08-14          2020  TV-MA  4 Seasons  ...   \n",
       "1 2016-12-23          2016  TV-MA     93 min  ...   \n",
       "2 2018-12-20          2011      R     78 min  ...   \n",
       "3 2017-11-16          2009  PG-13     80 min  ...   \n",
       "4 2020-01-01          2008  PG-13    123 min  ...   \n",
       "\n",
       "                                         description month_added year_added  \\\n",
       "0  In a future where the elite inhabit an island ...      August       2020   \n",
       "1  After a devastating earthquake hits Mexico Cit...    December       2016   \n",
       "2  When an army recruit is found dead, his fellow...    December       2018   \n",
       "3  In a postapocalyptic world, rag-doll robots hi...    November       2017   \n",
       "4  A brilliant group of students become card-coun...     January       2020   \n",
       "\n",
       "   seasonly  duration_season  minutely  duration_minute  family  life  friend  \n",
       "0         1                4         0                0     0.0   0.0     0.0  \n",
       "1         0                0         1               93     0.0   1.0     0.0  \n",
       "2         0                0         1               78     0.0   0.0     0.0  \n",
       "3         0                0         1               80     0.0   0.0     0.0  \n",
       "4         0                0         1              123     0.0   0.0     0.0  \n",
       "\n",
       "[5 rows x 21 columns]"
      ]
     },
     "execution_count": 2,
     "metadata": {},
     "output_type": "execute_result"
    }
   ],
   "source": [
    "df = pd.read_csv(\"Dataset\\\\engineered_title_netflix_dataset.csv\")\n",
    "df['date_added'] = pd.to_datetime(df[\"date_added\"])\n",
    "\n",
    "df.head()"
   ]
  },
  {
   "cell_type": "code",
   "execution_count": 3,
   "id": "d9dca72b",
   "metadata": {},
   "outputs": [
    {
     "data": {
      "text/plain": [
       "Index(['show_id', 'type', 'title', 'director', 'cast', 'country', 'date_added',\n",
       "       'release_year', 'rating', 'duration', 'listed_in', 'description',\n",
       "       'month_added', 'year_added', 'seasonly', 'duration_season', 'minutely',\n",
       "       'duration_minute', 'family', 'life', 'friend'],\n",
       "      dtype='object')"
      ]
     },
     "execution_count": 3,
     "metadata": {},
     "output_type": "execute_result"
    }
   ],
   "source": [
    "df.columns"
   ]
  },
  {
   "cell_type": "code",
   "execution_count": 4,
   "id": "46aa81e3",
   "metadata": {},
   "outputs": [
    {
     "name": "stdout",
     "output_type": "stream",
     "text": [
      "<class 'pandas.core.frame.DataFrame'>\n",
      "RangeIndex: 7787 entries, 0 to 7786\n",
      "Data columns (total 21 columns):\n",
      " #   Column           Non-Null Count  Dtype         \n",
      "---  ------           --------------  -----         \n",
      " 0   show_id          7787 non-null   object        \n",
      " 1   type             7787 non-null   object        \n",
      " 2   title            7787 non-null   object        \n",
      " 3   director         7787 non-null   object        \n",
      " 4   cast             7787 non-null   object        \n",
      " 5   country          7787 non-null   object        \n",
      " 6   date_added       7787 non-null   datetime64[ns]\n",
      " 7   release_year     7787 non-null   int64         \n",
      " 8   rating           7787 non-null   object        \n",
      " 9   duration         7787 non-null   object        \n",
      " 10  listed_in        7787 non-null   object        \n",
      " 11  description      7787 non-null   object        \n",
      " 12  month_added      7787 non-null   object        \n",
      " 13  year_added       7787 non-null   int64         \n",
      " 14  seasonly         7787 non-null   int64         \n",
      " 15  duration_season  7787 non-null   int64         \n",
      " 16  minutely         7787 non-null   int64         \n",
      " 17  duration_minute  7787 non-null   int64         \n",
      " 18  family           7787 non-null   float64       \n",
      " 19  life             7787 non-null   float64       \n",
      " 20  friend           7787 non-null   float64       \n",
      "dtypes: datetime64[ns](1), float64(3), int64(6), object(11)\n",
      "memory usage: 1.2+ MB\n"
     ]
    }
   ],
   "source": [
    "df.info()"
   ]
  },
  {
   "cell_type": "code",
   "execution_count": 5,
   "id": "cf6b5df0",
   "metadata": {},
   "outputs": [
    {
     "data": {
      "text/html": [
       "<div>\n",
       "<style scoped>\n",
       "    .dataframe tbody tr th:only-of-type {\n",
       "        vertical-align: middle;\n",
       "    }\n",
       "\n",
       "    .dataframe tbody tr th {\n",
       "        vertical-align: top;\n",
       "    }\n",
       "\n",
       "    .dataframe thead th {\n",
       "        text-align: right;\n",
       "    }\n",
       "</style>\n",
       "<table border=\"1\" class=\"dataframe\">\n",
       "  <thead>\n",
       "    <tr style=\"text-align: right;\">\n",
       "      <th></th>\n",
       "      <th>show_id</th>\n",
       "      <th>type</th>\n",
       "      <th>title</th>\n",
       "      <th>director</th>\n",
       "      <th>cast</th>\n",
       "      <th>country</th>\n",
       "      <th>date_added</th>\n",
       "      <th>release_year</th>\n",
       "      <th>rating</th>\n",
       "      <th>listed_in</th>\n",
       "      <th>month_added</th>\n",
       "      <th>year_added</th>\n",
       "      <th>seasonly</th>\n",
       "      <th>duration_season</th>\n",
       "      <th>minutely</th>\n",
       "      <th>duration_minute</th>\n",
       "      <th>family</th>\n",
       "      <th>life</th>\n",
       "      <th>friend</th>\n",
       "    </tr>\n",
       "  </thead>\n",
       "  <tbody>\n",
       "    <tr>\n",
       "      <th>0</th>\n",
       "      <td>s1</td>\n",
       "      <td>TV Show</td>\n",
       "      <td>3%</td>\n",
       "      <td>missing</td>\n",
       "      <td>João Miguel, Bianca Comparato, Michel Gomes, R...</td>\n",
       "      <td>Brazil</td>\n",
       "      <td>2020-08-14</td>\n",
       "      <td>2020</td>\n",
       "      <td>TV-MA</td>\n",
       "      <td>International TV Shows, TV Dramas, TV Sci-Fi &amp;...</td>\n",
       "      <td>August</td>\n",
       "      <td>2020</td>\n",
       "      <td>1</td>\n",
       "      <td>4</td>\n",
       "      <td>0</td>\n",
       "      <td>0</td>\n",
       "      <td>0.0</td>\n",
       "      <td>0.0</td>\n",
       "      <td>0.0</td>\n",
       "    </tr>\n",
       "    <tr>\n",
       "      <th>1</th>\n",
       "      <td>s2</td>\n",
       "      <td>Movie</td>\n",
       "      <td>7:19</td>\n",
       "      <td>Jorge Michel Grau</td>\n",
       "      <td>Demián Bichir, Héctor Bonilla, Oscar Serrano, ...</td>\n",
       "      <td>Mexico</td>\n",
       "      <td>2016-12-23</td>\n",
       "      <td>2016</td>\n",
       "      <td>TV-MA</td>\n",
       "      <td>Dramas, International Movies</td>\n",
       "      <td>December</td>\n",
       "      <td>2016</td>\n",
       "      <td>0</td>\n",
       "      <td>0</td>\n",
       "      <td>1</td>\n",
       "      <td>93</td>\n",
       "      <td>0.0</td>\n",
       "      <td>1.0</td>\n",
       "      <td>0.0</td>\n",
       "    </tr>\n",
       "    <tr>\n",
       "      <th>2</th>\n",
       "      <td>s3</td>\n",
       "      <td>Movie</td>\n",
       "      <td>23:59</td>\n",
       "      <td>Gilbert Chan</td>\n",
       "      <td>Tedd Chan, Stella Chung, Henley Hii, Lawrence ...</td>\n",
       "      <td>Singapore</td>\n",
       "      <td>2018-12-20</td>\n",
       "      <td>2011</td>\n",
       "      <td>R</td>\n",
       "      <td>Horror Movies, International Movies</td>\n",
       "      <td>December</td>\n",
       "      <td>2018</td>\n",
       "      <td>0</td>\n",
       "      <td>0</td>\n",
       "      <td>1</td>\n",
       "      <td>78</td>\n",
       "      <td>0.0</td>\n",
       "      <td>0.0</td>\n",
       "      <td>0.0</td>\n",
       "    </tr>\n",
       "    <tr>\n",
       "      <th>3</th>\n",
       "      <td>s4</td>\n",
       "      <td>Movie</td>\n",
       "      <td>9</td>\n",
       "      <td>Shane Acker</td>\n",
       "      <td>Elijah Wood, John C. Reilly, Jennifer Connelly...</td>\n",
       "      <td>United States</td>\n",
       "      <td>2017-11-16</td>\n",
       "      <td>2009</td>\n",
       "      <td>PG-13</td>\n",
       "      <td>Action &amp; Adventure, Independent Movies, Sci-Fi...</td>\n",
       "      <td>November</td>\n",
       "      <td>2017</td>\n",
       "      <td>0</td>\n",
       "      <td>0</td>\n",
       "      <td>1</td>\n",
       "      <td>80</td>\n",
       "      <td>0.0</td>\n",
       "      <td>0.0</td>\n",
       "      <td>0.0</td>\n",
       "    </tr>\n",
       "    <tr>\n",
       "      <th>4</th>\n",
       "      <td>s5</td>\n",
       "      <td>Movie</td>\n",
       "      <td>21</td>\n",
       "      <td>Robert Luketic</td>\n",
       "      <td>Jim Sturgess, Kevin Spacey, Kate Bosworth, Aar...</td>\n",
       "      <td>United States</td>\n",
       "      <td>2020-01-01</td>\n",
       "      <td>2008</td>\n",
       "      <td>PG-13</td>\n",
       "      <td>Dramas</td>\n",
       "      <td>January</td>\n",
       "      <td>2020</td>\n",
       "      <td>0</td>\n",
       "      <td>0</td>\n",
       "      <td>1</td>\n",
       "      <td>123</td>\n",
       "      <td>0.0</td>\n",
       "      <td>0.0</td>\n",
       "      <td>0.0</td>\n",
       "    </tr>\n",
       "  </tbody>\n",
       "</table>\n",
       "</div>"
      ],
      "text/plain": [
       "  show_id     type  title           director  \\\n",
       "0      s1  TV Show     3%            missing   \n",
       "1      s2    Movie   7:19  Jorge Michel Grau   \n",
       "2      s3    Movie  23:59       Gilbert Chan   \n",
       "3      s4    Movie      9        Shane Acker   \n",
       "4      s5    Movie     21     Robert Luketic   \n",
       "\n",
       "                                                cast        country  \\\n",
       "0  João Miguel, Bianca Comparato, Michel Gomes, R...         Brazil   \n",
       "1  Demián Bichir, Héctor Bonilla, Oscar Serrano, ...         Mexico   \n",
       "2  Tedd Chan, Stella Chung, Henley Hii, Lawrence ...      Singapore   \n",
       "3  Elijah Wood, John C. Reilly, Jennifer Connelly...  United States   \n",
       "4  Jim Sturgess, Kevin Spacey, Kate Bosworth, Aar...  United States   \n",
       "\n",
       "  date_added  release_year rating  \\\n",
       "0 2020-08-14          2020  TV-MA   \n",
       "1 2016-12-23          2016  TV-MA   \n",
       "2 2018-12-20          2011      R   \n",
       "3 2017-11-16          2009  PG-13   \n",
       "4 2020-01-01          2008  PG-13   \n",
       "\n",
       "                                           listed_in month_added  year_added  \\\n",
       "0  International TV Shows, TV Dramas, TV Sci-Fi &...      August        2020   \n",
       "1                       Dramas, International Movies    December        2016   \n",
       "2                Horror Movies, International Movies    December        2018   \n",
       "3  Action & Adventure, Independent Movies, Sci-Fi...    November        2017   \n",
       "4                                             Dramas     January        2020   \n",
       "\n",
       "   seasonly  duration_season  minutely  duration_minute  family  life  friend  \n",
       "0         1                4         0                0     0.0   0.0     0.0  \n",
       "1         0                0         1               93     0.0   1.0     0.0  \n",
       "2         0                0         1               78     0.0   0.0     0.0  \n",
       "3         0                0         1               80     0.0   0.0     0.0  \n",
       "4         0                0         1              123     0.0   0.0     0.0  "
      ]
     },
     "execution_count": 5,
     "metadata": {},
     "output_type": "execute_result"
    }
   ],
   "source": [
    "df = df.drop(columns=[\"duration\", \"description\"])\n",
    "\n",
    "df.head()"
   ]
  },
  {
   "cell_type": "code",
   "execution_count": 6,
   "id": "7dffeab5",
   "metadata": {},
   "outputs": [
    {
     "data": {
      "text/plain": [
       "Index(['show_id', 'type', 'title', 'director', 'cast', 'country', 'date_added',\n",
       "       'release_year', 'rating', 'listed_in', 'month_added', 'year_added',\n",
       "       'seasonly', 'duration_season', 'minutely', 'duration_minute', 'family',\n",
       "       'life', 'friend'],\n",
       "      dtype='object')"
      ]
     },
     "execution_count": 6,
     "metadata": {},
     "output_type": "execute_result"
    }
   ],
   "source": [
    "df.columns"
   ]
  },
  {
   "cell_type": "markdown",
   "id": "ee58fa47",
   "metadata": {},
   "source": [
    "# Type feature"
   ]
  },
  {
   "cell_type": "code",
   "execution_count": 7,
   "id": "538ba714",
   "metadata": {},
   "outputs": [
    {
     "data": {
      "image/png": "[encoded data removed]",
      "text/plain": [
       "<Figure size 1080x648 with 1 Axes>"
      ]
     },
     "metadata": {
      "needs_background": "light"
     },
     "output_type": "display_data"
    }
   ],
   "source": [
    "fig, ax = plt.subplots(figsize=(15, 9))\n",
    "\n",
    "sns.countplot(data=df, x=\"type\")\n",
    "\n",
    "plt.title(\"Bar plot of type feature\")\n",
    "plt.xlabel(\"Type\")\n",
    "plt.ylabel(\"Counts\")\n",
    "\n",
    "plt.show()"
   ]
  },
  {
   "cell_type": "markdown",
   "id": "c715e14b",
   "metadata": {},
   "source": [
    "# Director feature"
   ]
  },
  {
   "cell_type": "code",
   "execution_count": 8,
   "id": "cc8905d5",
   "metadata": {},
   "outputs": [],
   "source": [
    "df_d = df.copy()\n",
    "\n",
    "for i in range(df_d.shape[0]):\n",
    "    if df_d['director'][i] == \"missing\":\n",
    "        df_d.loc[i, 'director'] = None\n",
    "\n",
    "df_d = df_d.dropna()"
   ]
  },
  {
   "cell_type": "code",
   "execution_count": 9,
   "id": "d5681976",
   "metadata": {},
   "outputs": [
    {
     "data": {
      "image/png": "[encoded data removed]",
      "text/plain": [
       "<Figure size 1080x648 with 1 Axes>"
      ]
     },
     "metadata": {
      "needs_background": "light"
     },
     "output_type": "display_data"
    }
   ],
   "source": [
    "counts = df_d['director'].value_counts().sort_values(ascending=False)\n",
    "\n",
    "df_d_10 = pd.DataFrame({'director':counts.index[:10],\n",
    "                        'counts':counts.values[:10]})\n",
    "\n",
    "fig = plt.subplots(figsize=(15, 9))\n",
    "\n",
    "sns.barplot(data=df_d_10, x='director', y='counts')\n",
    "\n",
    "plt.title(\"Barplot of director feature\")\n",
    "plt.xlabel(\"Director\")\n",
    "plt.ylabel(\"Counts\")\n",
    "plt.tick_params(axis='x', labelsize=8)\n",
    "\n",
    "plt.show()"
   ]
  },
  {
   "cell_type": "markdown",
   "id": "bc7050a2",
   "metadata": {},
   "source": [
    "# Cast feature"
   ]
  },
  {
   "cell_type": "code",
   "execution_count": 10,
   "id": "3c8b5da9",
   "metadata": {},
   "outputs": [],
   "source": [
    "casts = []\n",
    "\n",
    "for cast in df[\"cast\"]:\n",
    "    casts.extend(cast.split(\",\"))\n",
    "    \n",
    "casts = pd.Series(casts)\n",
    "casts = casts.apply(lambda x: x.strip())\n",
    "casts = list(casts)"
   ]
  },
  {
   "cell_type": "code",
   "execution_count": 11,
   "id": "8d97b756",
   "metadata": {
    "scrolled": false
   },
   "outputs": [],
   "source": [
    "cast, counts = np.unique(casts, return_counts=True)\n",
    "\n",
    "cast_counts = pd.DataFrame(data={'cast':cast,\n",
    "                                 'counts':counts})\n",
    "\n",
    "cast_counts = cast_counts.sort_values('counts', ascending=False)\n",
    "cast_counts = cast_counts.drop(index=cast_counts[cast_counts[\"cast\"] == 'missing'].index[0])\n",
    "cast_counts = cast_counts.iloc[:10]"
   ]
  },
  {
   "cell_type": "code",
   "execution_count": 12,
   "id": "943cee7c",
   "metadata": {},
   "outputs": [
    {
     "data": {
      "image/png": "[encoded data removed]",
      "text/plain": [
       "<Figure size 1080x648 with 1 Axes>"
      ]
     },
     "metadata": {
      "needs_background": "light"
     },
     "output_type": "display_data"
    }
   ],
   "source": [
    "fig = plt.subplots(figsize=(15, 9))\n",
    "\n",
    "sns.barplot(data=cast_counts, x='cast', y='counts')\n",
    "\n",
    "plt.title(\"Bar plot of cast feature\")\n",
    "plt.xlabel(\"Cast\")\n",
    "plt.ylabel(\"Counts\")\n",
    "plt.tick_params(axis='x', labelsize=9)\n",
    "\n",
    "plt.show()"
   ]
  },
  {
   "cell_type": "markdown",
   "id": "eca81a20",
   "metadata": {},
   "source": [
    "# Country feature"
   ]
  },
  {
   "cell_type": "code",
   "execution_count": 13,
   "id": "4b0a24f9",
   "metadata": {},
   "outputs": [],
   "source": [
    "countries = []\n",
    "\n",
    "for country in df['country']:\n",
    "    if ',' in country:\n",
    "        countries.extend(country.split(\",\"))\n",
    "    else:\n",
    "        countries.append(country)\n",
    "    \n",
    "countries = pd.Series(countries)\n",
    "countries = countries.apply(lambda x: x.strip())\n",
    "countries = list(countries)"
   ]
  },
  {
   "cell_type": "code",
   "execution_count": 14,
   "id": "1f6ea978",
   "metadata": {},
   "outputs": [],
   "source": [
    "country, counts = np.unique(countries, return_counts=True)\n",
    "\n",
    "country_counts = pd.DataFrame(data={'country':country,\n",
    "                                    'counts':counts})\n",
    "\n",
    "country_counts = country_counts.sort_values('counts', ascending=False)\n",
    "country_counts = country_counts.drop(index=country_counts[country_counts['country'] == 'missing'].index[0])\n",
    "country_counts = country_counts.iloc[:10]"
   ]
  },
  {
   "cell_type": "code",
   "execution_count": 15,
   "id": "b701bee6",
   "metadata": {},
   "outputs": [
    {
     "data": {
      "image/png": "[encoded data removed]",
      "text/plain": [
       "<Figure size 1080x648 with 1 Axes>"
      ]
     },
     "metadata": {
      "needs_background": "light"
     },
     "output_type": "display_data"
    }
   ],
   "source": [
    "fig = plt.subplots(figsize=(15, 9))\n",
    "\n",
    "sns.barplot(data=country_counts, x='country', y='counts')\n",
    "\n",
    "plt.title(\"Bar plot of country feature\")\n",
    "plt.xlabel(\"Country\")\n",
    "plt.ylabel(\"Counts\")\n",
    "\n",
    "plt.show()"
   ]
  },
  {
   "cell_type": "markdown",
   "id": "c817f4e6",
   "metadata": {},
   "source": [
    "# date_added feature"
   ]
  },
  {
   "cell_type": "code",
   "execution_count": 16,
   "id": "f966d14c",
   "metadata": {},
   "outputs": [
    {
     "data": {
      "image/png": "[encoded data removed]",
      "text/plain": [
       "<Figure size 1080x648 with 1 Axes>"
      ]
     },
     "metadata": {
      "needs_background": "light"
     },
     "output_type": "display_data"
    }
   ],
   "source": [
    "fig = plt.subplots(figsize=(15, 9))\n",
    "\n",
    "sns.histplot(data=df, x='date_added')\n",
    "\n",
    "plt.title(\"Histogram of date_added feature\")\n",
    "plt.xlabel(\"Date\")\n",
    "plt.ylabel(\"Counts\")\n",
    "\n",
    "plt.show()"
   ]
  },
  {
   "cell_type": "markdown",
   "id": "6a2e7ef6",
   "metadata": {},
   "source": [
    "# release_year feature"
   ]
  },
  {
   "cell_type": "code",
   "execution_count": 17,
   "id": "525764a8",
   "metadata": {},
   "outputs": [
    {
     "data": {
      "image/png": "[encoded data removed]",
      "text/plain": [
       "<Figure size 1080x648 with 1 Axes>"
      ]
     },
     "metadata": {
      "needs_background": "light"
     },
     "output_type": "display_data"
    }
   ],
   "source": [
    "fig = plt.subplots(figsize=(15, 9))\n",
    "\n",
    "sns.histplot(data=df, x='release_year')\n",
    "\n",
    "plt.title(\"Histogram of release_year feature\")\n",
    "plt.xlabel(\"Release Year\")\n",
    "plt.ylabel(\"Counts\")\n",
    "\n",
    "plt.show()"
   ]
  },
  {
   "cell_type": "markdown",
   "id": "9df2a68c",
   "metadata": {},
   "source": [
    "# Rating feature"
   ]
  },
  {
   "cell_type": "code",
   "execution_count": 18,
   "id": "c0ad8493",
   "metadata": {},
   "outputs": [
    {
     "data": {
      "image/png": "[encoded data removed]",
      "text/plain": [
       "<Figure size 1080x648 with 1 Axes>"
      ]
     },
     "metadata": {
      "needs_background": "light"
     },
     "output_type": "display_data"
    }
   ],
   "source": [
    "fig = plt.subplots(figsize=(15, 9))\n",
    "\n",
    "sns.countplot(data=df, x='rating', order=df['rating'].value_counts().index)\n",
    "\n",
    "plt.title(\"Bar plot of rating feature\")\n",
    "plt.xlabel(\"Rating\")\n",
    "plt.ylabel(\"Counts\")\n",
    "\n",
    "plt.show()"
   ]
  },
  {
   "cell_type": "markdown",
   "id": "f4a32834",
   "metadata": {},
   "source": [
    "# listed_in feature"
   ]
  },
  {
   "cell_type": "code",
   "execution_count": 19,
   "id": "0d87db29",
   "metadata": {},
   "outputs": [],
   "source": [
    "genres = []\n",
    "\n",
    "for genre in df['listed_in']:\n",
    "    if \",\" in genre:\n",
    "        genres.extend(genre.split(\",\"))\n",
    "    else:\n",
    "        genres.append(genre)\n",
    "        \n",
    "genres = pd.Series(genres)\n",
    "genres = genres.apply(lambda x: x.strip())\n",
    "genres = list(genres)"
   ]
  },
  {
   "cell_type": "code",
   "execution_count": 20,
   "id": "60b04ce8",
   "metadata": {},
   "outputs": [],
   "source": [
    "genre, count = np.unique(genres, return_counts=True)\n",
    "\n",
    "genre_counts = pd.DataFrame(data={'genre':genre,\n",
    "                                  'counts':count})\n",
    "\n",
    "genre_counts = genre_counts.sort_values('counts', ascending=False)\n",
    "genre_counts = genre_counts.iloc[:10]"
   ]
  },
  {
   "cell_type": "code",
   "execution_count": 21,
   "id": "262cd62e",
   "metadata": {},
   "outputs": [
    {
     "data": {
      "image/png": "[encoded data removed]",
      "text/plain": [
       "<Figure size 1080x648 with 1 Axes>"
      ]
     },
     "metadata": {
      "needs_background": "light"
     },
     "output_type": "display_data"
    }
   ],
   "source": [
    "fig = plt.subplots(figsize=(15, 9))\n",
    "\n",
    "sns.barplot(data=genre_counts, x='genre', y='counts')\n",
    "\n",
    "plt.title(\"Bar plot of listed_in feature\")\n",
    "plt.xlabel(\"Genre\")\n",
    "plt.ylabel(\"Counts\")\n",
    "plt.tick_params(axis='x', labelsize=8)\n",
    "\n",
    "plt.show()"
   ]
  },
  {
   "cell_type": "markdown",
   "id": "1e459381",
   "metadata": {},
   "source": [
    "# month_added feature"
   ]
  },
  {
   "cell_type": "code",
   "execution_count": 22,
   "id": "ea18b255",
   "metadata": {},
   "outputs": [
    {
     "data": {
      "image/png": "[encoded data removed]",
      "text/plain": [
       "<Figure size 1080x648 with 1 Axes>"
      ]
     },
     "metadata": {
      "needs_background": "light"
     },
     "output_type": "display_data"
    }
   ],
   "source": [
    "fig = plt.subplots(figsize=(15, 9))\n",
    "\n",
    "sns.countplot(data=df, x='month_added', order=df['month_added'].value_counts().index)\n",
    "\n",
    "plt.title(\"Bar plot of month_added\")\n",
    "plt.xlabel(\"Month\")\n",
    "plt.ylabel(\"Counts\")\n",
    "\n",
    "plt.show()"
   ]
  },
  {
   "cell_type": "markdown",
   "id": "f18e98d3",
   "metadata": {},
   "source": [
    "# year_added feature"
   ]
  },
  {
   "cell_type": "code",
   "execution_count": 23,
   "id": "674602f5",
   "metadata": {},
   "outputs": [
    {
     "data": {
      "image/png": "[encoded data removed]",
      "text/plain": [
       "<Figure size 1080x648 with 1 Axes>"
      ]
     },
     "metadata": {
      "needs_background": "light"
     },
     "output_type": "display_data"
    }
   ],
   "source": [
    "fig = plt.subplots(figsize=(15, 9))\n",
    "\n",
    "sns.countplot(data=df, x='year_added', order=df['year_added'].value_counts().index)\n",
    "\n",
    "plt.title(\"Histogram of year_added feature\")\n",
    "plt.xlabel(\"Year\")\n",
    "plt.ylabel(\"Counts\")\n",
    "\n",
    "plt.show()"
   ]
  },
  {
   "cell_type": "markdown",
   "id": "45368a90",
   "metadata": {},
   "source": [
    "For seasonly, minutely features are the same count as type feature"
   ]
  },
  {
   "cell_type": "markdown",
   "id": "a5b86b86",
   "metadata": {},
   "source": [
    "# duration_season feature"
   ]
  },
  {
   "cell_type": "code",
   "execution_count": 24,
   "id": "f3abd80a",
   "metadata": {},
   "outputs": [
    {
     "data": {
      "image/png": "[encoded data removed]",
      "text/plain": [
       "<Figure size 1080x648 with 1 Axes>"
      ]
     },
     "metadata": {
      "needs_background": "light"
     },
     "output_type": "display_data"
    }
   ],
   "source": [
    "fig = plt.subplots(figsize=(15, 9))\n",
    "\n",
    "sns.countplot(data=df, x='duration_season')\n",
    "\n",
    "plt.title(\"Bar plot of duration_season feature\")\n",
    "plt.xlabel(\"Season\")\n",
    "plt.ylabel(\"Counts\")\n",
    "\n",
    "plt.show()"
   ]
  },
  {
   "cell_type": "markdown",
   "id": "07b547a7",
   "metadata": {},
   "source": [
    "for 0 season is about movie type"
   ]
  },
  {
   "cell_type": "markdown",
   "id": "abbb94e5",
   "metadata": {},
   "source": [
    "# duration_minute feature "
   ]
  },
  {
   "cell_type": "code",
   "execution_count": 25,
   "id": "3edcb8b4",
   "metadata": {},
   "outputs": [
    {
     "data": {
      "image/png": "[encoded data removed]",
      "text/plain": [
       "<Figure size 1080x648 with 1 Axes>"
      ]
     },
     "metadata": {
      "needs_background": "light"
     },
     "output_type": "display_data"
    }
   ],
   "source": [
    "fig = plt.subplots(figsize=(15, 9))\n",
    "\n",
    "sns.histplot(data=df, x='duration_minute')\n",
    "\n",
    "plt.title(\"Histogram of duration_minute feature\")\n",
    "plt.xlabel(\"Minute\")\n",
    "plt.ylabel(\"Counts\")\n",
    "\n",
    "plt.show()"
   ]
  },
  {
   "cell_type": "markdown",
   "id": "78823bfb",
   "metadata": {},
   "source": [
    "for 0 minute is about tv show type"
   ]
  },
  {
   "cell_type": "markdown",
   "id": "7fd3f55a",
   "metadata": {},
   "source": [
    "# plots feature"
   ]
  },
  {
   "cell_type": "code",
   "execution_count": 26,
   "id": "213f66ff",
   "metadata": {},
   "outputs": [],
   "source": [
    "plots_features = ['family', 'life', 'friend']\n",
    "\n",
    "for feature in plots_features:\n",
    "    df[feature] = df[feature].apply(lambda x: \"Yes\" if x == 1 else \"NO\")"
   ]
  },
  {
   "cell_type": "code",
   "execution_count": 27,
   "id": "a1a5f5b7",
   "metadata": {},
   "outputs": [
    {
     "data": {
      "image/png": "[encoded data removed]",
      "text/plain": [
       "<Figure size 1080x648 with 4 Axes>"
      ]
     },
     "metadata": {
      "needs_background": "light"
     },
     "output_type": "display_data"
    }
   ],
   "source": [
    "fig, ax = plt.subplots(figsize=(15, 9), nrows=2, ncols=2)\n",
    "\n",
    "plots_features = ['family', 'life', 'friend']\n",
    "for i in range(len(plots_features)):\n",
    "    if i < 2:\n",
    "        sns.countplot(data=df, x=plots_features[i], ax=ax[i][0])\n",
    "        \n",
    "        ax[i][0].set_title(f\"Bar plot of {plots_features[i].capitalize()} feature\")\n",
    "        ax[i][0].set_xlabel(plots_features[i].capitalize())\n",
    "        ax[i][0].set_ylabel(\"Counts\")\n",
    "    \n",
    "    else:\n",
    "        i_ = i - 2\n",
    "        sns.countplot(data=df, x=plots_features[i], ax=ax[i_][1])\n",
    "        \n",
    "        ax[i_][1].set_title(f\"Bar plor of {plots_features[i].capitalize()} feature\")\n",
    "        ax[i_][1].set_xlabel(plots_features[i].capitalize())\n",
    "        ax[i_][1].set_ylabel(\"Counts\")\n",
    "        \n",
    "plt.show()"
   ]
  },
  {
   "cell_type": "markdown",
   "id": "16f85bf7",
   "metadata": {},
   "source": [
    "# Conclusion"
   ]
  },
  {
   "cell_type": "markdown",
   "id": "de006364",
   "metadata": {},
   "source": [
    "## Director feature analysis\n",
    "\n",
    "In the director feature there are most common directors in this dataset are Raul compos and Jan suter, Marcus Raboy, Jay Karas. Unfortunately in this dataset there are a lot of missing directors like 30% of missing directors in this dataset.\n",
    "\n",
    "## Cast feature analysis\n",
    "\n",
    "In the cast feature there are most common casts in this dataset are Anupam Kher, Shah Rukh Khan, Naseeruddin Shah. Unfortunately in this dataset there are a lot of missing directors like 9% of missing directors in this dataset \n",
    "\n",
    "## Country feature analysis\n",
    "\n",
    "In the country feature there are most common country where the movies or tv shows produced are United States, India, United Kingdom according to this dataset\n",
    "\n",
    "## Date added feature analysis\n",
    "\n",
    "In the date added feature there are a lot of movies and tv shows that added in netflix mostly in year 2019 - 2020, there are a lot of movies and tv shows added according to this dataset\n",
    "\n",
    "## Release year feature analysis\n",
    "\n",
    "In the release year feature there are a lot of movies and tv shows release in year 2016 - 2020, there are a lot of movies and tv shows release according to this dataset\n",
    "\n",
    "## Rating feature analysis\n",
    "\n",
    "In the rating feature there are a lot of movies and tv shows that rating for TV-MA, TV-14, TV-PG, there are a lot of movies and tv shows are for person that over 18, there are a lot of movies and tv shows are not good for kid less than 14, there are a lot of movies and tv shows are not good for kid. So, in this analysis we can conclude that movies and tv shows in netflix are for adults and older, not good for kid according to this dataset\n",
    "\n",
    "## Listed in feature analysis\n",
    "\n",
    "In the listed in feature or genre feature there are a lot of movies and tv shows are genre International TV Movies, Drama, Comedies. So, in this analysis we can conclude that there are a lot International TV Movies, Drama, Comedies according to this dataset\n",
    "\n",
    "## Month added feature analysis\n",
    "\n",
    "In the month added feature there are a lot of movies and tv shows are added in December, October, January. So, the movies that most likely added in netflix are in winter season and in autumn season according to this dataset\n",
    "\n",
    "## Year added feature analysis\n",
    "\n",
    "In the year added feature there are a lot of movies and tv shows are added in 2019, 2020, 2018 according to this dataset\n",
    "\n",
    "## Duration season feature analysis\n",
    "\n",
    "In the duration season feature there are a lot of duration from tv shows type that most are 1 - 3 season according to this dataset\n",
    "\n",
    "## Duration minute feature analysis\n",
    "\n",
    "In the duration minute feature there are a lot of duration from movies type that most are 90 - 120 minutes according to this dataset\n",
    "\n",
    "## Plots feature analysis\n",
    "\n",
    "In the plots feature there are a lot of movies that have various plots or story but most are about family, life, friend according to this dataset"
   ]
  },
  {
   "cell_type": "markdown",
   "id": "7009f158",
   "metadata": {},
   "source": [
    "# Top Actors, Directores, Genres and Countries"
   ]
  },
  {
   "cell_type": "markdown",
   "id": "4e37a350",
   "metadata": {},
   "source": [
    "### 1. For top Actors are Anupam Kher, Shah Rukh Khan, Naseeruddin Shah\n",
    "### 2. For top Directores are Raul compos and Jan suter, Marcus Raboy, Jay Karas\n",
    "### 3. For top Genres are International TV Movies, Drama, Comedies\n",
    "### 4. For top Countries are United States, India, United Kingdom"
   ]
  }
 ],
 "metadata": {
  "kernelspec": {
   "display_name": "Python 3",
   "language": "python",
   "name": "python3"
  },
  "language_info": {
   "codemirror_mode": {
    "name": "ipython",
    "version": 3
   },
   "file_extension": ".py",
   "mimetype": "text/x-python",
   "name": "python",
   "nbconvert_exporter": "python",
   "pygments_lexer": "ipython3",
   "version": "3.8.8"
  }
 },
 "nbformat": 4,
 "nbformat_minor": 5
}
